{
  "cells": [
    {
      "cell_type": "markdown",
      "metadata": {
        "id": "view-in-github",
        "colab_type": "text"
      },
      "source": [
        "<a href=\"https://colab.research.google.com/github/emaruiz27/Colab-Software/blob/main/Semana8_R_Basico_Alumno.ipynb\" target=\"_parent\"><img src=\"https://colab.research.google.com/assets/colab-badge.svg\" alt=\"Open In Colab\"/></a>"
      ]
    },
    {
      "cell_type": "markdown",
      "id": "04984848",
      "metadata": {
        "id": "04984848"
      },
      "source": [
        "\n",
        "# Semana 8 — **Primeros pasos en R (Colab)** — Cuaderno para alumnos\n",
        "\n",
        "**Cómo usar este cuaderno en Colab**\n",
        "1. Ve a **Runtime → Change runtime type → Language: R** (elige R).\n",
        "2. Si no aparece R, usa un notebook de Python y `rpy2` (no es lo ideal para este cuaderno).\n",
        "\n",
        "> Este cuaderno usa **R nativo**. Ejecuta cada celda en orden; donde veas **TO DO**, completa el código.\n"
      ]
    },
    {
      "cell_type": "markdown",
      "id": "56fff84d",
      "metadata": {
        "id": "56fff84d"
      },
      "source": [
        "## 1) Operaciones básicas y tipos"
      ]
    },
    {
      "cell_type": "code",
      "execution_count": null,
      "id": "a23e8afd",
      "metadata": {
        "colab": {
          "base_uri": "https://localhost:8080/",
          "height": 52
        },
        "id": "a23e8afd",
        "outputId": "c679c792-2261-4d36-f1d8-1519b25c5385"
      },
      "outputs": [
        {
          "output_type": "display_data",
          "data": {
            "text/html": [
              "7.5"
            ],
            "text/markdown": "7.5",
            "text/latex": "7.5",
            "text/plain": [
              "[1] 7.5"
            ]
          },
          "metadata": {}
        },
        {
          "output_type": "display_data",
          "data": {
            "text/html": [
              "2.23606797749979"
            ],
            "text/markdown": "2.23606797749979",
            "text/latex": "2.23606797749979",
            "text/plain": [
              "[1] 2.236068"
            ]
          },
          "metadata": {}
        }
      ],
      "source": [
        "\n",
        "# TODO: ejecuta estas líneas y agrega 1 operación más\n",
        "x <- 5\n",
        "y <- 2.5\n",
        "z <- \"hola\"\n",
        "b <- TRUE\n",
        "\n",
        "x + y\n",
        "sqrt(x)\n",
        "# Tu línea extra aquí:\n",
        "# TO DO\n"
      ]
    },
    {
      "cell_type": "markdown",
      "id": "894ef0f4",
      "metadata": {
        "id": "894ef0f4"
      },
      "source": [
        "## 2) Vectores en R (creación, operaciones, filtrado)"
      ]
    },
    {
      "cell_type": "code",
      "execution_count": null,
      "id": "3b0c1e70",
      "metadata": {
        "colab": {
          "base_uri": "https://localhost:8080/",
          "height": 86
        },
        "id": "3b0c1e70",
        "outputId": "9ba43ca6-1a26-4f35-f9eb-008a0b26d5b3"
      },
      "outputs": [
        {
          "output_type": "display_data",
          "data": {
            "text/html": [
              "<style>\n",
              ".list-inline {list-style: none; margin:0; padding: 0}\n",
              ".list-inline>li {display: inline-block}\n",
              ".list-inline>li:not(:last-child)::after {content: \"\\00b7\"; padding: 0 .5ex}\n",
              "</style>\n",
              "<ol class=list-inline><li>480</li><li>550</li><li>455</li></ol>\n"
            ],
            "text/markdown": "1. 480\n2. 550\n3. 455\n\n\n",
            "text/latex": "\\begin{enumerate*}\n\\item 480\n\\item 550\n\\item 455\n\\end{enumerate*}\n",
            "text/plain": [
              "[1] 480 550 455"
            ]
          },
          "metadata": {}
        },
        {
          "output_type": "display_data",
          "data": {
            "text/html": [
              "0.08"
            ],
            "text/markdown": "0.08",
            "text/latex": "0.08",
            "text/plain": [
              "[1] 0.08"
            ]
          },
          "metadata": {}
        },
        {
          "output_type": "display_data",
          "data": {
            "text/html": [
              "<style>\n",
              ".list-inline {list-style: none; margin:0; padding: 0}\n",
              ".list-inline>li {display: inline-block}\n",
              ".list-inline>li:not(:last-child)::after {content: \"\\00b7\"; padding: 0 .5ex}\n",
              "</style>\n",
              "<ol class=list-inline><li>0.1</li><li>0.07</li></ol>\n"
            ],
            "text/markdown": "1. 0.1\n2. 0.07\n\n\n",
            "text/latex": "\\begin{enumerate*}\n\\item 0.1\n\\item 0.07\n\\end{enumerate*}\n",
            "text/plain": [
              "[1] 0.10 0.07"
            ]
          },
          "metadata": {}
        },
        {
          "output_type": "display_data",
          "data": {
            "text/html": [
              "0.1"
            ],
            "text/markdown": "0.1",
            "text/latex": "0.1",
            "text/plain": [
              "[1] 0.1"
            ]
          },
          "metadata": {}
        }
      ],
      "source": [
        "\n",
        "# TODO: crea dos vectores con 3 valores cada uno\n",
        "q <- c(0.08, 0.10, 0.07)   # frecuencias (ejemplo)\n",
        "s <- c(6000, 5500, 6500)   # severidades (ejemplo)\n",
        "\n",
        "# Calcula EL = q*s (operación vectorizada)\n",
        "# TO DO: asigna a un objeto llamado EL y muéstralo\n",
        "\n",
        "\n",
        "# Acceso y filtrado (prueba estas líneas)\n",
        "q[1]\n",
        "q[2:3]\n",
        "q[q > 0.08]\n"
      ]
    },
    {
      "cell_type": "markdown",
      "id": "f9743d5c",
      "metadata": {
        "id": "f9743d5c"
      },
      "source": [
        "\n",
        "## 3) Ejercicio práctico (básico)\n",
        "\n",
        "**Contexto:** Tenemos 6 pólizas. Calcula `EL = q*s`, una **prima_sugerida** muy simple y marca si está **subtarifada** (`premium_actual < prima_sugerida`)."
      ]
    },
    {
      "cell_type": "code",
      "execution_count": null,
      "id": "19f5876d",
      "metadata": {
        "id": "19f5876d"
      },
      "outputs": [],
      "source": [
        "\n",
        "# Datos base (deja estos tal cual)\n",
        "id <- paste0(\"P\", 1001:1006)\n",
        "region <- c(\"Norte\",\"Sur\",\"Centro\",\"Norte\",\"Sur\",\"Centro\")\n",
        "q <- c(0.08, 0.10, 0.07, 0.09, 0.06, 0.11)\n",
        "s <- c(6000, 5500, 6500, 7000, 4800, 6200)\n",
        "premium_actual <- c(1200, 1100, 1250, 1300, 1050, 1400)\n",
        "\n",
        "# TO DO: Calcula EL, prima_sugerida y subtarifada\n",
        "# Pista: usa margen <- 0.20 y cuota_fija <- 100\n",
        "margen <- 0.20\n",
        "cuota_fija <- 100\n",
        "\n",
        "# TO DO (completa):\n",
        "EL <-\n",
        "prima_sugerida <-\n",
        "subtarifada <-\n",
        "\n",
        "# Construye el data.frame final y muéstralo\n",
        "datos <- data.frame(id, region, q, s, premium_actual, EL, prima_sugerida, subtarifada)\n",
        "\n"
      ]
    },
    {
      "cell_type": "markdown",
      "id": "b31fe3bf",
      "metadata": {
        "id": "b31fe3bf"
      },
      "source": [
        "## 4) Resumen por región (base R)"
      ]
    },
    {
      "cell_type": "code",
      "execution_count": null,
      "id": "0e24388e",
      "metadata": {
        "id": "0e24388e"
      },
      "outputs": [],
      "source": [
        "\n",
        "# TO DO: usa tapply o aggregate para calcular el promedio de 'premium_actual' por región\n",
        "tapply(datos$premium_actual, datos$region, )\n",
        "\n",
        "# TO DO: promedio de EL por región\n",
        "tapply(datos$EL, datos$region, )\n",
        "\n",
        "# Conteo por región\n",
        "table(datos$region)\n"
      ]
    },
    {
      "cell_type": "markdown",
      "id": "6bb1095d",
      "metadata": {
        "id": "6bb1095d"
      },
      "source": [
        "### (Opcional) Mismo resumen con dplyr"
      ]
    },
    {
      "cell_type": "code",
      "execution_count": null,
      "id": "3b502526",
      "metadata": {
        "id": "3b502526"
      },
      "outputs": [],
      "source": [
        "\n",
        "# Ejecuta esta celda solo si quieres probar dplyr (puede tardar la primera vez)\n",
        "# install.packages(\"dplyr\", repos = \"https://cloud.r-project.org\")\n",
        "# library(dplyr)\n",
        "# resumen <- datos |>\n",
        "#   group_by(region) |>\n",
        "#   summarise(\n",
        "#     prima_prom = mean(premium_actual),\n",
        "#     EL_prom    = mean(EL),\n",
        "#     n          = dplyr::n()\n",
        "#   )\n",
        "# resumen\n"
      ]
    },
    {
      "cell_type": "markdown",
      "id": "632546e4",
      "metadata": {
        "id": "632546e4"
      },
      "source": [
        "## 5) Mini-gráfico"
      ]
    },
    {
      "cell_type": "code",
      "execution_count": null,
      "id": "af1d8d34",
      "metadata": {
        "colab": {
          "base_uri": "https://localhost:8080/",
          "height": 437
        },
        "id": "af1d8d34",
        "outputId": "bb9d43fe-5a4b-47df-ccd0-c0b3e9aca1cf"
      },
      "outputs": [
        {
          "output_type": "display_data",
          "data": {
            "text/plain": [
              "Plot with title “Prima promedio por región”"
            ],
            "image/png": "[encoded data removed]"
          },
          "metadata": {
            "image/png": {
              "width": 420,
              "height": 420
            }
          }
        }
      ],
      "source": [
        "\n",
        "# TODO: crea un barplot de 'premium_actual' promedio por región\n",
        "prom_por_region <- tapply(datos$premium_actual, datos$region, mean)\n",
        "barplot(\n",
        "  prom_por_region,\n",
        "  main = \"Prima promedio por región\",\n",
        "  ylab = \"Prima promedio\"\n",
        ")\n"
      ]
    },
    {
      "cell_type": "markdown",
      "id": "025fb4c1",
      "metadata": {
        "id": "025fb4c1"
      },
      "source": [
        "## 6) Guardar y cargar CSV"
      ]
    },
    {
      "cell_type": "code",
      "execution_count": null,
      "id": "b02cf8e6",
      "metadata": {
        "id": "b02cf8e6"
      },
      "outputs": [],
      "source": [
        "\n",
        "# Guardar\n",
        "write.csv(datos, \"reporte_basico.csv\", row.names = FALSE)\n",
        "\n",
        "# Cargar (después de guardarlo)\n",
        "nuevo <- read.csv(\"reporte_basico.csv\")\n",
        "head(nuevo)\n"
      ]
    }
  ],
  "metadata": {
    "kernelspec": {
      "display_name": "R",
      "language": "R",
      "name": "ir"
    },
    "language_info": {
      "codemirror_mode": "r",
      "file_extension": ".r",
      "mimetype": "text/x-r-source",
      "name": "R"
    },
    "colab": {
      "provenance": [],
      "include_colab_link": true
    }
  },
  "nbformat": 4,
  "nbformat_minor": 5
}